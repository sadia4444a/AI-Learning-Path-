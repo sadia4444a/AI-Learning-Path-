{
  "nbformat": 4,
  "nbformat_minor": 0,
  "metadata": {
    "colab": {
      "provenance": []
    },
    "kernelspec": {
      "name": "python3",
      "display_name": "Python 3"
    },
    "language_info": {
      "name": "python"
    }
  },
  "cells": [
    {
      "cell_type": "markdown",
      "source": [
        "## The Basics"
      ],
      "metadata": {
        "id": "U2DzHOLXtPdY"
      }
    },
    {
      "cell_type": "code",
      "source": [
        "import numpy as np"
      ],
      "metadata": {
        "id": "o3OFP7DftVXB"
      },
      "execution_count": null,
      "outputs": []
    },
    {
      "cell_type": "code",
      "source": [
        "list=[1,2,4]"
      ],
      "metadata": {
        "id": "kxrFzdR7uD2a"
      },
      "execution_count": null,
      "outputs": []
    },
    {
      "cell_type": "code",
      "source": [
        "a = np.array([1,2,3], dtype='int8')\n",
        "print(a)"
      ],
      "metadata": {
        "colab": {
          "base_uri": "https://localhost:8080/"
        },
        "id": "lQxSmiT1tohT",
        "outputId": "4c821619-29d3-46bf-f573-990265feea30"
      },
      "execution_count": null,
      "outputs": [
        {
          "output_type": "stream",
          "name": "stdout",
          "text": [
            "[1 2 3]\n"
          ]
        }
      ]
    },
    {
      "cell_type": "code",
      "source": [
        "1.0"
      ],
      "metadata": {
        "id": "JUi-l_EJuvZm"
      },
      "execution_count": null,
      "outputs": []
    },
    {
      "cell_type": "code",
      "source": [
        "b=np.array([[9.0,8.0,7.0],[6.0,5.0,4.0]])\n",
        "print(b)"
      ],
      "metadata": {
        "colab": {
          "base_uri": "https://localhost:8080/"
        },
        "id": "2lq91csjuenE",
        "outputId": "603eaa71-d209-42b6-fa8f-dc58a89dfd52"
      },
      "execution_count": null,
      "outputs": [
        {
          "output_type": "stream",
          "name": "stdout",
          "text": [
            "[[9. 8. 7.]\n",
            " [6. 5. 4.]]\n"
          ]
        }
      ]
    },
    {
      "cell_type": "code",
      "source": [
        "b.dtype"
      ],
      "metadata": {
        "colab": {
          "base_uri": "https://localhost:8080/"
        },
        "id": "N0oHu-DNw11c",
        "outputId": "fec7042c-3194-496d-b945-c5d623c42e17"
      },
      "execution_count": null,
      "outputs": [
        {
          "output_type": "execute_result",
          "data": {
            "text/plain": [
              "dtype('float64')"
            ]
          },
          "metadata": {},
          "execution_count": 29
        }
      ]
    },
    {
      "cell_type": "code",
      "source": [
        "a.dtype"
      ],
      "metadata": {
        "colab": {
          "base_uri": "https://localhost:8080/"
        },
        "id": "gXVGZGfkuOb1",
        "outputId": "aa1ca4dc-f83a-450d-dae7-78af4138fba5"
      },
      "execution_count": null,
      "outputs": [
        {
          "output_type": "execute_result",
          "data": {
            "text/plain": [
              "dtype('int8')"
            ]
          },
          "metadata": {},
          "execution_count": 18
        }
      ]
    },
    {
      "cell_type": "code",
      "source": [
        "2**64"
      ],
      "metadata": {
        "colab": {
          "base_uri": "https://localhost:8080/"
        },
        "id": "zHLww6s1uP8a",
        "outputId": "07f4960b-8b60-4dff-ddd6-f547487c8405"
      },
      "execution_count": null,
      "outputs": [
        {
          "output_type": "execute_result",
          "data": {
            "text/plain": [
              "18446744073709551616"
            ]
          },
          "metadata": {},
          "execution_count": 16
        }
      ]
    },
    {
      "cell_type": "code",
      "source": [
        "2**8"
      ],
      "metadata": {
        "colab": {
          "base_uri": "https://localhost:8080/"
        },
        "id": "4JIAxv1pvnj8",
        "outputId": "50744195-9b7c-4da4-d33d-7529b6ec1cee"
      },
      "execution_count": null,
      "outputs": [
        {
          "output_type": "execute_result",
          "data": {
            "text/plain": [
              "256"
            ]
          },
          "metadata": {},
          "execution_count": 21
        }
      ]
    },
    {
      "cell_type": "code",
      "source": [
        "c=np.array([184467440737, 1844674407370] , dtype='int64')"
      ],
      "metadata": {
        "id": "nni5rWjAvWLH"
      },
      "execution_count": null,
      "outputs": []
    },
    {
      "cell_type": "code",
      "source": [
        "00"
      ],
      "metadata": {
        "colab": {
          "base_uri": "https://localhost:8080/"
        },
        "id": "3JiWEoyrvFw4",
        "outputId": "85b2ce59-c883-435e-8085-cd504df86b7a"
      },
      "execution_count": null,
      "outputs": [
        {
          "output_type": "execute_result",
          "data": {
            "text/plain": [
              "8.0"
            ]
          },
          "metadata": {},
          "execution_count": 19
        }
      ]
    },
    {
      "cell_type": "code",
      "source": [
        "C="
      ],
      "metadata": {
        "id": "cn1pc9XQwyp0"
      },
      "execution_count": null,
      "outputs": []
    },
    {
      "cell_type": "code",
      "source": [
        "000\n",
        "001\n",
        "010\n",
        "011\n",
        "100\n",
        "101\n",
        "110\n",
        "111"
      ],
      "metadata": {
        "id": "Le3_EgvDwQml"
      },
      "execution_count": null,
      "outputs": []
    },
    {
      "cell_type": "code",
      "source": [
        "0,1,2,3"
      ],
      "metadata": {
        "id": "Qesr7J1lwFvd"
      },
      "execution_count": null,
      "outputs": []
    },
    {
      "cell_type": "code",
      "source": [
        "2**2"
      ],
      "metadata": {
        "colab": {
          "base_uri": "https://localhost:8080/"
        },
        "id": "irxT7diswKXl",
        "outputId": "3f172c77-8270-4cd8-ef6c-6ced9fbb2b25"
      },
      "execution_count": null,
      "outputs": [
        {
          "output_type": "execute_result",
          "data": {
            "text/plain": [
              "4"
            ]
          },
          "metadata": {},
          "execution_count": 26
        }
      ]
    },
    {
      "cell_type": "code",
      "source": [
        "01\n",
        "10\n",
        "11\n",
        "00"
      ],
      "metadata": {
        "colab": {
          "base_uri": "https://localhost:8080/",
          "height": 124
        },
        "id": "9R9Vmjgev_k4",
        "outputId": "f06302f4-da67-4a40-99e6-285dedbe63de"
      },
      "execution_count": null,
      "outputs": [
        {
          "output_type": "error",
          "ename": "SyntaxError",
          "evalue": "leading zeros in decimal integer literals are not permitted; use an 0o prefix for octal integers (<ipython-input-25-02a33d7089b9>, line 1)",
          "traceback": [
            "\u001b[0;36m  File \u001b[0;32m\"<ipython-input-25-02a33d7089b9>\"\u001b[0;36m, line \u001b[0;32m1\u001b[0m\n\u001b[0;31m    01\u001b[0m\n\u001b[0m    ^\u001b[0m\n\u001b[0;31mSyntaxError\u001b[0m\u001b[0;31m:\u001b[0m leading zeros in decimal integer literals are not permitted; use an 0o prefix for octal integers\n"
          ]
        }
      ]
    },
    {
      "cell_type": "code",
      "source": [
        "[1,2,3]\n",
        "[1,35,5]\n",
        "[4,5,6]"
      ],
      "metadata": {
        "id": "xn_JETvmxBol"
      },
      "execution_count": null,
      "outputs": []
    },
    {
      "cell_type": "code",
      "source": [
        "d=np.array([[1,2,3], [1,35, 5], [5,6,7]])"
      ],
      "metadata": {
        "id": "ODD-rhnHwDRm"
      },
      "execution_count": null,
      "outputs": []
    },
    {
      "cell_type": "code",
      "source": [
        "d.dtype"
      ],
      "metadata": {
        "colab": {
          "base_uri": "https://localhost:8080/"
        },
        "id": "AutPf1GYxxYO",
        "outputId": "74b2ea8f-1ee3-4bff-bc46-9cd42786eced"
      },
      "execution_count": null,
      "outputs": [
        {
          "output_type": "execute_result",
          "data": {
            "text/plain": [
              "dtype('int64')"
            ]
          },
          "metadata": {},
          "execution_count": 35
        }
      ]
    },
    {
      "cell_type": "code",
      "source": [
        "1 = 64 bit"
      ],
      "metadata": {
        "id": "LCHYDg3GyPy9"
      },
      "execution_count": null,
      "outputs": []
    },
    {
      "cell_type": "code",
      "source": [
        "64/8"
      ],
      "metadata": {
        "colab": {
          "base_uri": "https://localhost:8080/"
        },
        "id": "FQWRCUchx-TP",
        "outputId": "492c4fd2-a126-42f9-bd4e-3b5667fbaaf1"
      },
      "execution_count": null,
      "outputs": [
        {
          "output_type": "execute_result",
          "data": {
            "text/plain": [
              "8.0"
            ]
          },
          "metadata": {},
          "execution_count": 36
        }
      ]
    },
    {
      "cell_type": "code",
      "source": [
        "9*8"
      ],
      "metadata": {
        "colab": {
          "base_uri": "https://localhost:8080/"
        },
        "id": "JIUeE2HfyCJK",
        "outputId": "cafa9aac-24cb-4a3a-d78d-894bff7e193c"
      },
      "execution_count": null,
      "outputs": [
        {
          "output_type": "execute_result",
          "data": {
            "text/plain": [
              "72"
            ]
          },
          "metadata": {},
          "execution_count": 37
        }
      ]
    },
    {
      "cell_type": "code",
      "source": [
        "d"
      ],
      "metadata": {
        "colab": {
          "base_uri": "https://localhost:8080/"
        },
        "id": "0PxucHIvxoiQ",
        "outputId": "f1ef1e1c-af66-418f-863c-9f94add7b0dd"
      },
      "execution_count": null,
      "outputs": [
        {
          "output_type": "execute_result",
          "data": {
            "text/plain": [
              "array([[ 1,  2,  3],\n",
              "       [ 1, 35,  5],\n",
              "       [ 5,  6,  7]])"
            ]
          },
          "metadata": {},
          "execution_count": 34
        }
      ]
    },
    {
      "cell_type": "code",
      "source": [
        "d.shape"
      ],
      "metadata": {
        "colab": {
          "base_uri": "https://localhost:8080/"
        },
        "id": "4qUHv_TSxRlA",
        "outputId": "5010bf39-df4e-45e8-c9d3-5582a4250a08"
      },
      "execution_count": null,
      "outputs": [
        {
          "output_type": "execute_result",
          "data": {
            "text/plain": [
              "(3, 3)"
            ]
          },
          "metadata": {},
          "execution_count": 31
        }
      ]
    },
    {
      "cell_type": "code",
      "source": [
        "a.ndim"
      ],
      "metadata": {
        "colab": {
          "base_uri": "https://localhost:8080/"
        },
        "id": "MdjQaBn3xj_c",
        "outputId": "1de5dd85-1b06-4ee2-b860-c8727b182ed7"
      },
      "execution_count": null,
      "outputs": [
        {
          "output_type": "execute_result",
          "data": {
            "text/plain": [
              "1"
            ]
          },
          "metadata": {},
          "execution_count": 33
        }
      ]
    },
    {
      "cell_type": "code",
      "source": [
        "d.ndim"
      ],
      "metadata": {
        "colab": {
          "base_uri": "https://localhost:8080/"
        },
        "id": "zHPk6WrHxdzl",
        "outputId": "69ca48a5-85bf-4bb6-df60-55a98e75b64a"
      },
      "execution_count": null,
      "outputs": [
        {
          "output_type": "execute_result",
          "data": {
            "text/plain": [
              "2"
            ]
          },
          "metadata": {},
          "execution_count": 32
        }
      ]
    },
    {
      "cell_type": "code",
      "source": [
        "d.nbytes"
      ],
      "metadata": {
        "colab": {
          "base_uri": "https://localhost:8080/"
        },
        "id": "Hpzw-eMfxr9H",
        "outputId": "2df9bc22-0bc0-4d70-9be2-892ec4fb6b19"
      },
      "execution_count": null,
      "outputs": [
        {
          "output_type": "execute_result",
          "data": {
            "text/plain": [
              "72"
            ]
          },
          "metadata": {},
          "execution_count": 38
        }
      ]
    },
    {
      "cell_type": "code",
      "source": [
        "d.size"
      ],
      "metadata": {
        "colab": {
          "base_uri": "https://localhost:8080/"
        },
        "id": "3_ZklYT8yn4b",
        "outputId": "ac93aca5-9683-4fb4-b7e7-a1c29ca09eb4"
      },
      "execution_count": null,
      "outputs": [
        {
          "output_type": "execute_result",
          "data": {
            "text/plain": [
              "9"
            ]
          },
          "metadata": {},
          "execution_count": 39
        }
      ]
    },
    {
      "cell_type": "markdown",
      "source": [
        "## 1.2 Accessing/changing Specific Elements, Row, Columns,"
      ],
      "metadata": {
        "id": "zFhoUwU-y9GX"
      }
    },
    {
      "cell_type": "code",
      "source": [
        "a= np.array([[1,2,3,4,5,6,7],[8,9,10,11,12,13,14]] , dtype='int8')"
      ],
      "metadata": {
        "id": "gF_UrX_Ty8wa"
      },
      "execution_count": null,
      "outputs": []
    },
    {
      "cell_type": "code",
      "source": [
        "a"
      ],
      "metadata": {
        "colab": {
          "base_uri": "https://localhost:8080/"
        },
        "id": "tFIdIqWU3ymI",
        "outputId": "88932cc1-cf06-48b8-f290-207af43fce2e"
      },
      "execution_count": null,
      "outputs": [
        {
          "output_type": "execute_result",
          "data": {
            "text/plain": [
              "array([[ 1,  2,  3,  4,  5,  6,  7],\n",
              "       [ 8,  9, 10, 11, 12, 13, 14]], dtype=int8)"
            ]
          },
          "metadata": {},
          "execution_count": 33
        }
      ]
    },
    {
      "cell_type": "code",
      "source": [
        "b=np"
      ],
      "metadata": {
        "id": "9tgvBDw25dSm"
      },
      "execution_count": null,
      "outputs": []
    },
    {
      "cell_type": "code",
      "source": [
        "a[0:2 , 1:3]"
      ],
      "metadata": {
        "colab": {
          "base_uri": "https://localhost:8080/"
        },
        "id": "uU5YF0Y93uR9",
        "outputId": "5c9537a0-17af-4f48-c428-ed51b9cc1e30"
      },
      "execution_count": null,
      "outputs": [
        {
          "output_type": "execute_result",
          "data": {
            "text/plain": [
              "array([[ 2,  3],\n",
              "       [ 9, 10]], dtype=int8)"
            ]
          },
          "metadata": {},
          "execution_count": 35
        }
      ]
    },
    {
      "cell_type": "code",
      "source": [
        "a[1, 1:6:2]"
      ],
      "metadata": {
        "colab": {
          "base_uri": "https://localhost:8080/"
        },
        "id": "uqnYre3x2sqo",
        "outputId": "2110b14e-c3f3-4567-f1e1-816ddfc32a5e"
      },
      "execution_count": null,
      "outputs": [
        {
          "output_type": "execute_result",
          "data": {
            "text/plain": [
              "array([ 9, 13], dtype=int8)"
            ]
          },
          "metadata": {},
          "execution_count": 63
        }
      ]
    },
    {
      "cell_type": "code",
      "source": [
        "a"
      ],
      "metadata": {
        "colab": {
          "base_uri": "https://localhost:8080/"
        },
        "id": "St7qdgxczm35",
        "outputId": "b5df6d1f-3de4-469e-e48b-491b721221be"
      },
      "execution_count": null,
      "outputs": [
        {
          "output_type": "execute_result",
          "data": {
            "text/plain": [
              "array([[ 1,  2,  3,  4,  5,  6,  7],\n",
              "       [ 8,  9, 10, 11, 12, 13, 14]], dtype=int8)"
            ]
          },
          "metadata": {},
          "execution_count": 44
        }
      ]
    },
    {
      "cell_type": "code",
      "source": [
        "0,0"
      ],
      "metadata": {
        "id": "4hsf7QpVz2iC"
      },
      "execution_count": null,
      "outputs": []
    },
    {
      "cell_type": "code",
      "source": [
        "a.size"
      ],
      "metadata": {
        "colab": {
          "base_uri": "https://localhost:8080/"
        },
        "id": "dtwovPjLys4i",
        "outputId": "e1b2f9c8-6fca-4bc1-f8b5-20be6f195f7a"
      },
      "execution_count": null,
      "outputs": [
        {
          "output_type": "execute_result",
          "data": {
            "text/plain": [
              "14"
            ]
          },
          "metadata": {},
          "execution_count": 42
        }
      ]
    },
    {
      "cell_type": "code",
      "source": [
        "a.shape"
      ],
      "metadata": {
        "colab": {
          "base_uri": "https://localhost:8080/"
        },
        "id": "YKbHCOcuzc9g",
        "outputId": "5921f1b1-a83f-4b2e-edaa-290edf82abb5"
      },
      "execution_count": null,
      "outputs": [
        {
          "output_type": "execute_result",
          "data": {
            "text/plain": [
              "(2, 7)"
            ]
          },
          "metadata": {},
          "execution_count": 43
        }
      ]
    },
    {
      "cell_type": "markdown",
      "source": [
        "x[r,c]"
      ],
      "metadata": {
        "id": "H4Cz8nsIzuge"
      }
    },
    {
      "cell_type": "code",
      "source": [
        "a[1,4]"
      ],
      "metadata": {
        "colab": {
          "base_uri": "https://localhost:8080/"
        },
        "id": "h6yV4j9xzsk7",
        "outputId": "7713893e-9469-4c16-9f30-b4898e5b236a"
      },
      "execution_count": null,
      "outputs": [
        {
          "output_type": "execute_result",
          "data": {
            "text/plain": [
              "np.int8(12)"
            ]
          },
          "metadata": {},
          "execution_count": 45
        }
      ]
    },
    {
      "cell_type": "code",
      "source": [
        "a[1]"
      ],
      "metadata": {
        "colab": {
          "base_uri": "https://localhost:8080/"
        },
        "id": "L3nr6Xxg0KyX",
        "outputId": "7b3192e1-2315-4110-f055-6cc764a9aaeb"
      },
      "execution_count": null,
      "outputs": [
        {
          "output_type": "execute_result",
          "data": {
            "text/plain": [
              "array([ 8,  9, 10, 11, 12, 13, 14], dtype=int8)"
            ]
          },
          "metadata": {},
          "execution_count": 48
        }
      ]
    },
    {
      "cell_type": "code",
      "source": [
        "a[ : , 2]"
      ],
      "metadata": {
        "colab": {
          "base_uri": "https://localhost:8080/"
        },
        "id": "P8NOEKXf1G8Z",
        "outputId": "63a33fd3-e880-44fa-e585-bd63b9baae2c"
      },
      "execution_count": null,
      "outputs": [
        {
          "output_type": "execute_result",
          "data": {
            "text/plain": [
              "array([ 3, 10], dtype=int8)"
            ]
          },
          "metadata": {},
          "execution_count": 56
        }
      ]
    },
    {
      "cell_type": "code",
      "source": [
        "a[0, 1:6:2]"
      ],
      "metadata": {
        "colab": {
          "base_uri": "https://localhost:8080/"
        },
        "id": "DTw14UjY2JYp",
        "outputId": "cbf05c82-c6e0-42a4-c248-c8b01d060c8e"
      },
      "execution_count": null,
      "outputs": [
        {
          "output_type": "execute_result",
          "data": {
            "text/plain": [
              "array([2, 4, 6], dtype=int8)"
            ]
          },
          "metadata": {},
          "execution_count": 57
        }
      ]
    },
    {
      "cell_type": "markdown",
      "source": [
        "## 1.3 Initializing different types of arrays"
      ],
      "metadata": {
        "id": "Gor04oe-wPyd"
      }
    },
    {
      "cell_type": "code",
      "source": [
        "import numpy as np"
      ],
      "metadata": {
        "id": "uEkD7IJkxJ21"
      },
      "execution_count": null,
      "outputs": []
    },
    {
      "cell_type": "code",
      "source": [
        "np.zeros((2,3))"
      ],
      "metadata": {
        "id": "UbmTovLh3vct",
        "colab": {
          "base_uri": "https://localhost:8080/"
        },
        "outputId": "8f457079-5007-40f7-d065-52d7d1363c0c"
      },
      "execution_count": null,
      "outputs": [
        {
          "output_type": "execute_result",
          "data": {
            "text/plain": [
              "array([[0., 0., 0.],\n",
              "       [0., 0., 0.]])"
            ]
          },
          "metadata": {},
          "execution_count": 3
        }
      ]
    },
    {
      "cell_type": "code",
      "source": [
        "np.zeros((2, 2,3))"
      ],
      "metadata": {
        "colab": {
          "base_uri": "https://localhost:8080/"
        },
        "id": "YACN66Y3g6A2",
        "outputId": "56a66c4d-8509-415e-ea2a-2f93791387a0"
      },
      "execution_count": null,
      "outputs": [
        {
          "output_type": "execute_result",
          "data": {
            "text/plain": [
              "array([[[0., 0., 0.],\n",
              "        [0., 0., 0.]],\n",
              "\n",
              "       [[0., 0., 0.],\n",
              "        [0., 0., 0.]]])"
            ]
          },
          "metadata": {},
          "execution_count": 4
        }
      ]
    },
    {
      "cell_type": "code",
      "source": [
        "np.ones((10,6), dtype='int32')"
      ],
      "metadata": {
        "colab": {
          "base_uri": "https://localhost:8080/"
        },
        "id": "1hvRyrkcxgQR",
        "outputId": "ec42b1d8-b587-499f-92c8-eb660c92684e"
      },
      "execution_count": null,
      "outputs": [
        {
          "output_type": "execute_result",
          "data": {
            "text/plain": [
              "array([[1, 1, 1, 1, 1, 1],\n",
              "       [1, 1, 1, 1, 1, 1],\n",
              "       [1, 1, 1, 1, 1, 1],\n",
              "       [1, 1, 1, 1, 1, 1],\n",
              "       [1, 1, 1, 1, 1, 1],\n",
              "       [1, 1, 1, 1, 1, 1],\n",
              "       [1, 1, 1, 1, 1, 1],\n",
              "       [1, 1, 1, 1, 1, 1],\n",
              "       [1, 1, 1, 1, 1, 1],\n",
              "       [1, 1, 1, 1, 1, 1]], dtype=int32)"
            ]
          },
          "metadata": {},
          "execution_count": 8
        }
      ]
    },
    {
      "cell_type": "code",
      "source": [
        "np.full((10,8), 34)"
      ],
      "metadata": {
        "colab": {
          "base_uri": "https://localhost:8080/"
        },
        "id": "4ZMlrwT5ykQm",
        "outputId": "1718a62f-e150-427a-9dfa-9f9312cc9100"
      },
      "execution_count": null,
      "outputs": [
        {
          "output_type": "execute_result",
          "data": {
            "text/plain": [
              "array([[34, 34, 34, 34, 34, 34, 34, 34],\n",
              "       [34, 34, 34, 34, 34, 34, 34, 34],\n",
              "       [34, 34, 34, 34, 34, 34, 34, 34],\n",
              "       [34, 34, 34, 34, 34, 34, 34, 34],\n",
              "       [34, 34, 34, 34, 34, 34, 34, 34],\n",
              "       [34, 34, 34, 34, 34, 34, 34, 34],\n",
              "       [34, 34, 34, 34, 34, 34, 34, 34],\n",
              "       [34, 34, 34, 34, 34, 34, 34, 34],\n",
              "       [34, 34, 34, 34, 34, 34, 34, 34],\n",
              "       [34, 34, 34, 34, 34, 34, 34, 34]])"
            ]
          },
          "metadata": {},
          "execution_count": 11
        }
      ]
    },
    {
      "cell_type": "code",
      "source": [
        "a=np.array([[1,2,3,4,5,6,7],[8,9,10,11,12,13,14]])"
      ],
      "metadata": {
        "id": "Zd2HynuUzDQJ"
      },
      "execution_count": null,
      "outputs": []
    },
    {
      "cell_type": "code",
      "source": [
        "a.shape"
      ],
      "metadata": {
        "colab": {
          "base_uri": "https://localhost:8080/"
        },
        "id": "7IFFAuVwzia6",
        "outputId": "e69cba55-388b-42c9-f6bc-b1979caad1a8"
      },
      "execution_count": null,
      "outputs": [
        {
          "output_type": "execute_result",
          "data": {
            "text/plain": [
              "(2, 7)"
            ]
          },
          "metadata": {},
          "execution_count": 14
        }
      ]
    },
    {
      "cell_type": "code",
      "source": [
        "np.full_like(a, 4)"
      ],
      "metadata": {
        "colab": {
          "base_uri": "https://localhost:8080/"
        },
        "id": "-KOc_jGOzUVS",
        "outputId": "402ddce7-3b78-491a-e374-3cd717e6b629"
      },
      "execution_count": null,
      "outputs": [
        {
          "output_type": "execute_result",
          "data": {
            "text/plain": [
              "array([[4, 4, 4, 4, 4, 4, 4],\n",
              "       [4, 4, 4, 4, 4, 4, 4]])"
            ]
          },
          "metadata": {},
          "execution_count": 15
        }
      ]
    },
    {
      "cell_type": "code",
      "source": [
        "np.random.rand(4,2)"
      ],
      "metadata": {
        "colab": {
          "base_uri": "https://localhost:8080/"
        },
        "id": "SqmmVBBEzqMS",
        "outputId": "fb8dc65a-522f-41d8-c3cd-6f1ec31ac303"
      },
      "execution_count": null,
      "outputs": [
        {
          "output_type": "execute_result",
          "data": {
            "text/plain": [
              "array([[0.02294699, 0.68970315],\n",
              "       [0.33171282, 0.09573478],\n",
              "       [0.87957849, 0.10840152],\n",
              "       [0.20352435, 0.97496855]])"
            ]
          },
          "metadata": {},
          "execution_count": 20
        }
      ]
    },
    {
      "cell_type": "code",
      "source": [
        "np.random.randint(1000, size=(10,10))"
      ],
      "metadata": {
        "colab": {
          "base_uri": "https://localhost:8080/"
        },
        "id": "YCcRz2Gc0g9V",
        "outputId": "b602a2fa-8169-4e74-8df5-a04c18baee44"
      },
      "execution_count": null,
      "outputs": [
        {
          "output_type": "execute_result",
          "data": {
            "text/plain": [
              "array([[408, 720, 385, 431, 897, 926, 423, 804, 907, 770],\n",
              "       [ 91, 480, 804, 689, 154, 757, 504, 928, 184, 305],\n",
              "       [562,  66, 762, 666, 168, 154,  83, 640, 919, 827],\n",
              "       [351, 315, 746, 662, 360, 519,   7, 327, 315, 641],\n",
              "       [741, 117, 497, 548, 474, 275, 789, 781, 955,  68],\n",
              "       [756, 767, 811, 714, 963, 518, 885, 763, 447, 549],\n",
              "       [446, 510, 102, 817, 869, 452, 732, 538, 793, 704],\n",
              "       [502, 684, 791, 591,  17, 869, 602, 322, 183, 712],\n",
              "       [687, 791, 950, 186, 641, 540, 870, 526, 182, 923],\n",
              "       [ 52, 191, 796, 967, 478, 925, 956,  43, 473, 476]])"
            ]
          },
          "metadata": {},
          "execution_count": 26
        }
      ]
    },
    {
      "cell_type": "code",
      "source": [
        "np.random.randint(100, 1000, size=(10,10))"
      ],
      "metadata": {
        "colab": {
          "base_uri": "https://localhost:8080/"
        },
        "id": "iDlZIC-S1On7",
        "outputId": "af740695-b4e5-4fb1-d935-16d142f02bbf"
      },
      "execution_count": null,
      "outputs": [
        {
          "output_type": "execute_result",
          "data": {
            "text/plain": [
              "array([[684, 506, 585, 891, 512, 452, 673, 544, 339, 711],\n",
              "       [406, 396, 984, 892, 470, 678, 682, 611, 665, 511],\n",
              "       [112, 660, 609, 161, 526, 576, 525, 148, 269, 684],\n",
              "       [536, 130, 511, 620, 544, 750, 687, 618, 772, 203],\n",
              "       [668, 216, 844, 588, 511, 743, 881, 758, 304, 216],\n",
              "       [998, 831, 272, 394, 987, 450, 735, 264, 308, 782],\n",
              "       [664, 605, 806, 927, 587, 495, 718, 136, 558, 732],\n",
              "       [701, 713, 173, 980, 454, 215, 267, 197, 427, 845],\n",
              "       [647, 468, 531, 592, 880, 115, 107, 578, 207, 730],\n",
              "       [354, 301, 460, 469, 700, 138, 800, 702, 966, 786]])"
            ]
          },
          "metadata": {},
          "execution_count": 27
        }
      ]
    },
    {
      "cell_type": "markdown",
      "source": [
        "### Example"
      ],
      "metadata": {
        "id": "4VyB8rie7JvZ"
      }
    },
    {
      "cell_type": "code",
      "source": [
        "np.identity(5)"
      ],
      "metadata": {
        "colab": {
          "base_uri": "https://localhost:8080/"
        },
        "id": "eHj6JnSk1lNi",
        "outputId": "da1428e8-afb1-4b8a-ee25-73ee4b94bc44"
      },
      "execution_count": null,
      "outputs": [
        {
          "output_type": "execute_result",
          "data": {
            "text/plain": [
              "array([[1., 0., 0., 0., 0.],\n",
              "       [0., 1., 0., 0., 0.],\n",
              "       [0., 0., 1., 0., 0.],\n",
              "       [0., 0., 0., 1., 0.],\n",
              "       [0., 0., 0., 0., 1.]])"
            ]
          },
          "metadata": {},
          "execution_count": 28
        }
      ]
    },
    {
      "cell_type": "code",
      "source": [
        "b = np.ones((5,5), dtype='int8')"
      ],
      "metadata": {
        "id": "B36u9I6E2PzT"
      },
      "execution_count": null,
      "outputs": []
    },
    {
      "cell_type": "code",
      "source": [
        "b"
      ],
      "metadata": {
        "colab": {
          "base_uri": "https://localhost:8080/"
        },
        "id": "iRvJvKY-3CE3",
        "outputId": "dde783a2-3f6f-46a0-968e-dbf1140ef8be"
      },
      "execution_count": null,
      "outputs": [
        {
          "output_type": "execute_result",
          "data": {
            "text/plain": [
              "array([[1, 1, 1, 1, 1],\n",
              "       [1, 1, 1, 1, 1],\n",
              "       [1, 1, 1, 1, 1],\n",
              "       [1, 1, 1, 1, 1],\n",
              "       [1, 1, 1, 1, 1]], dtype=int8)"
            ]
          },
          "metadata": {},
          "execution_count": 37
        }
      ]
    },
    {
      "cell_type": "code",
      "source": [],
      "metadata": {
        "id": "6cogFigH3qMM"
      },
      "execution_count": null,
      "outputs": []
    },
    {
      "cell_type": "code",
      "source": [
        "b[1:4, 1:4]=0"
      ],
      "metadata": {
        "id": "aiTjt9at3FpU"
      },
      "execution_count": null,
      "outputs": []
    },
    {
      "cell_type": "code",
      "source": [
        "b"
      ],
      "metadata": {
        "colab": {
          "base_uri": "https://localhost:8080/"
        },
        "id": "5V17hLmC6Wqc",
        "outputId": "6e3c780b-6adc-4b39-f0e6-a0f3c2071717"
      },
      "execution_count": null,
      "outputs": [
        {
          "output_type": "execute_result",
          "data": {
            "text/plain": [
              "array([[1, 1, 1, 1, 1],\n",
              "       [1, 0, 0, 0, 1],\n",
              "       [1, 0, 0, 0, 1],\n",
              "       [1, 0, 0, 0, 1],\n",
              "       [1, 1, 1, 1, 1]], dtype=int8)"
            ]
          },
          "metadata": {},
          "execution_count": 45
        }
      ]
    },
    {
      "cell_type": "code",
      "source": [
        "b[2, 2]=9"
      ],
      "metadata": {
        "id": "D-sYxmY96aw1"
      },
      "execution_count": null,
      "outputs": []
    },
    {
      "cell_type": "code",
      "source": [
        "b"
      ],
      "metadata": {
        "colab": {
          "base_uri": "https://localhost:8080/"
        },
        "id": "P-EI6eIl6wVD",
        "outputId": "738307e0-0fdc-49ea-e0e2-4b1b0928a6ab"
      },
      "execution_count": null,
      "outputs": [
        {
          "output_type": "execute_result",
          "data": {
            "text/plain": [
              "array([[1, 1, 1, 1, 1],\n",
              "       [1, 0, 0, 0, 1],\n",
              "       [1, 0, 9, 0, 1],\n",
              "       [1, 0, 0, 0, 1],\n",
              "       [1, 1, 1, 1, 1]], dtype=int8)"
            ]
          },
          "metadata": {},
          "execution_count": 47
        }
      ]
    },
    {
      "cell_type": "markdown",
      "source": [
        "## Basic Mathematics"
      ],
      "metadata": {
        "id": "X-3ygs4c7R8H"
      }
    },
    {
      "cell_type": "code",
      "source": [
        "c=np.array([1,2,3,4])"
      ],
      "metadata": {
        "id": "VaZ95y1P7MfV"
      },
      "execution_count": null,
      "outputs": []
    },
    {
      "cell_type": "code",
      "source": [
        "##add\n",
        "c+4\n"
      ],
      "metadata": {
        "colab": {
          "base_uri": "https://localhost:8080/"
        },
        "id": "AmvTuauP7gCn",
        "outputId": "1f311816-d376-43a9-92e7-f16f42d1efad"
      },
      "execution_count": null,
      "outputs": [
        {
          "output_type": "execute_result",
          "data": {
            "text/plain": [
              "array([5, 6, 7, 8])"
            ]
          },
          "metadata": {},
          "execution_count": 49
        }
      ]
    },
    {
      "cell_type": "code",
      "source": [
        "c-3"
      ],
      "metadata": {
        "colab": {
          "base_uri": "https://localhost:8080/"
        },
        "id": "qqguUU1p7tVK",
        "outputId": "e4f7aae8-666f-48fa-9e9a-2cd90bdc3d72"
      },
      "execution_count": null,
      "outputs": [
        {
          "output_type": "execute_result",
          "data": {
            "text/plain": [
              "array([-2, -1,  0,  1])"
            ]
          },
          "metadata": {},
          "execution_count": 50
        }
      ]
    },
    {
      "cell_type": "code",
      "source": [
        "d=c*4"
      ],
      "metadata": {
        "id": "k7gzRcjN8D8c"
      },
      "execution_count": null,
      "outputs": []
    },
    {
      "cell_type": "code",
      "source": [
        "d"
      ],
      "metadata": {
        "colab": {
          "base_uri": "https://localhost:8080/"
        },
        "id": "ef5xyrt88bCO",
        "outputId": "437447db-1b18-4517-d60e-3665cb549da2"
      },
      "execution_count": null,
      "outputs": [
        {
          "output_type": "execute_result",
          "data": {
            "text/plain": [
              "array([ 4,  8, 12, 16])"
            ]
          },
          "metadata": {},
          "execution_count": 54
        }
      ]
    },
    {
      "cell_type": "code",
      "source": [
        "c**2"
      ],
      "metadata": {
        "colab": {
          "base_uri": "https://localhost:8080/"
        },
        "id": "glaiCj3c8JrA",
        "outputId": "6c5a9a74-371b-4aff-94ce-ca6e63459769"
      },
      "execution_count": null,
      "outputs": [
        {
          "output_type": "execute_result",
          "data": {
            "text/plain": [
              "array([ 1,  4,  9, 16])"
            ]
          },
          "metadata": {},
          "execution_count": 52
        }
      ]
    },
    {
      "cell_type": "code",
      "source": [
        "d+c"
      ],
      "metadata": {
        "colab": {
          "base_uri": "https://localhost:8080/"
        },
        "id": "BIHXn2sX8TWy",
        "outputId": "65873ff7-594d-4fce-ee7f-4439ac6f238e"
      },
      "execution_count": null,
      "outputs": [
        {
          "output_type": "execute_result",
          "data": {
            "text/plain": [
              "array([ 5, 10, 15, 20])"
            ]
          },
          "metadata": {},
          "execution_count": 55
        }
      ]
    },
    {
      "cell_type": "code",
      "source": [
        "np.cos(c)"
      ],
      "metadata": {
        "colab": {
          "base_uri": "https://localhost:8080/"
        },
        "id": "LV2SMHV98o7I",
        "outputId": "edfc52e8-91ca-4c77-a690-30641282be17"
      },
      "execution_count": null,
      "outputs": [
        {
          "output_type": "execute_result",
          "data": {
            "text/plain": [
              "array([ 0.54030231, -0.41614684, -0.9899925 , -0.65364362])"
            ]
          },
          "metadata": {},
          "execution_count": 56
        }
      ]
    },
    {
      "cell_type": "code",
      "source": [
        "np.sin(c)"
      ],
      "metadata": {
        "colab": {
          "base_uri": "https://localhost:8080/"
        },
        "id": "pJV84wXS9mwN",
        "outputId": "82ab6013-2ac6-4fe6-80cc-2db11c45dd6c"
      },
      "execution_count": null,
      "outputs": [
        {
          "output_type": "execute_result",
          "data": {
            "text/plain": [
              "array([ 0.84147098,  0.90929743,  0.14112001, -0.7568025 ])"
            ]
          },
          "metadata": {},
          "execution_count": 60
        }
      ]
    },
    {
      "cell_type": "code",
      "source": [
        "n=np.full((10,10), 4)"
      ],
      "metadata": {
        "id": "Mf5bVUoT9z6G"
      },
      "execution_count": null,
      "outputs": []
    },
    {
      "cell_type": "code",
      "source": [
        "g=np.random.rand(10,10)"
      ],
      "metadata": {
        "id": "lCcZvZBd-PQe"
      },
      "execution_count": null,
      "outputs": []
    },
    {
      "cell_type": "code",
      "source": [
        "np.sin(g)"
      ],
      "metadata": {
        "colab": {
          "base_uri": "https://localhost:8080/"
        },
        "id": "FW9enXPo-VYg",
        "outputId": "ba422a50-280a-4af0-f53a-007a6353f4a8"
      },
      "execution_count": null,
      "outputs": [
        {
          "output_type": "execute_result",
          "data": {
            "text/plain": [
              "array([[0.08485454, 0.22933613, 0.60553332, 0.74703959, 0.6640772 ,\n",
              "        0.65281531, 0.07510603, 0.42511221, 0.30539765, 0.23551675],\n",
              "       [0.16787597, 0.40486403, 0.16976339, 0.5494568 , 0.01264258,\n",
              "        0.5463532 , 0.79170245, 0.554221  , 0.46915885, 0.05638535],\n",
              "       [0.64184194, 0.25903594, 0.21703465, 0.65815714, 0.56790102,\n",
              "        0.67161394, 0.62417127, 0.43850419, 0.54121081, 0.09786937],\n",
              "       [0.77781165, 0.52806569, 0.62844692, 0.28337085, 0.61809167,\n",
              "        0.50301577, 0.48297887, 0.09551704, 0.16961021, 0.71202394],\n",
              "       [0.04530118, 0.52430578, 0.10410006, 0.40485666, 0.71787589,\n",
              "        0.24772468, 0.31785198, 0.29988613, 0.30587904, 0.13959608],\n",
              "       [0.4103136 , 0.09755751, 0.37326471, 0.65902598, 0.12727001,\n",
              "        0.18522332, 0.05829573, 0.52148907, 0.69271194, 0.11888838],\n",
              "       [0.72255415, 0.57845394, 0.69305051, 0.13072771, 0.5697815 ,\n",
              "        0.69915136, 0.74867991, 0.756065  , 0.50907202, 0.75380396],\n",
              "       [0.818029  , 0.16070685, 0.29931021, 0.26941058, 0.4714141 ,\n",
              "        0.7741873 , 0.79257784, 0.834642  , 0.4825829 , 0.17317552],\n",
              "       [0.09223282, 0.1889098 , 0.45545832, 0.58683207, 0.33465683,\n",
              "        0.2881247 , 0.73507708, 0.46970203, 0.00816114, 0.49353045],\n",
              "       [0.27429534, 0.67112132, 0.27270985, 0.81076346, 0.7706749 ,\n",
              "        0.68810483, 0.19805645, 0.62785236, 0.71703684, 0.33156295]])"
            ]
          },
          "metadata": {},
          "execution_count": 66
        }
      ]
    },
    {
      "cell_type": "code",
      "source": [
        "np.cos(n)"
      ],
      "metadata": {
        "colab": {
          "base_uri": "https://localhost:8080/"
        },
        "id": "PKbAHm1j-Bu-",
        "outputId": "1fce28e3-e471-4795-92ed-6e2a0fa2163d"
      },
      "execution_count": null,
      "outputs": [
        {
          "output_type": "execute_result",
          "data": {
            "text/plain": [
              "array([[-0.65364362, -0.65364362, -0.65364362, -0.65364362, -0.65364362,\n",
              "        -0.65364362, -0.65364362, -0.65364362, -0.65364362, -0.65364362],\n",
              "       [-0.65364362, -0.65364362, -0.65364362, -0.65364362, -0.65364362,\n",
              "        -0.65364362, -0.65364362, -0.65364362, -0.65364362, -0.65364362],\n",
              "       [-0.65364362, -0.65364362, -0.65364362, -0.65364362, -0.65364362,\n",
              "        -0.65364362, -0.65364362, -0.65364362, -0.65364362, -0.65364362],\n",
              "       [-0.65364362, -0.65364362, -0.65364362, -0.65364362, -0.65364362,\n",
              "        -0.65364362, -0.65364362, -0.65364362, -0.65364362, -0.65364362],\n",
              "       [-0.65364362, -0.65364362, -0.65364362, -0.65364362, -0.65364362,\n",
              "        -0.65364362, -0.65364362, -0.65364362, -0.65364362, -0.65364362],\n",
              "       [-0.65364362, -0.65364362, -0.65364362, -0.65364362, -0.65364362,\n",
              "        -0.65364362, -0.65364362, -0.65364362, -0.65364362, -0.65364362],\n",
              "       [-0.65364362, -0.65364362, -0.65364362, -0.65364362, -0.65364362,\n",
              "        -0.65364362, -0.65364362, -0.65364362, -0.65364362, -0.65364362],\n",
              "       [-0.65364362, -0.65364362, -0.65364362, -0.65364362, -0.65364362,\n",
              "        -0.65364362, -0.65364362, -0.65364362, -0.65364362, -0.65364362],\n",
              "       [-0.65364362, -0.65364362, -0.65364362, -0.65364362, -0.65364362,\n",
              "        -0.65364362, -0.65364362, -0.65364362, -0.65364362, -0.65364362],\n",
              "       [-0.65364362, -0.65364362, -0.65364362, -0.65364362, -0.65364362,\n",
              "        -0.65364362, -0.65364362, -0.65364362, -0.65364362, -0.65364362]])"
            ]
          },
          "metadata": {},
          "execution_count": 63
        }
      ]
    },
    {
      "cell_type": "markdown",
      "source": [
        "## statistics"
      ],
      "metadata": {
        "id": "uyOmTeUz-hMT"
      }
    },
    {
      "cell_type": "code",
      "source": [
        "p=np.random.randint(100,10000, size=(10,100))"
      ],
      "metadata": {
        "id": "rH6iD9XT-4gM"
      },
      "execution_count": null,
      "outputs": []
    },
    {
      "cell_type": "code",
      "source": [
        "stats=np.array([[1,2,3],[4,5,6]])"
      ],
      "metadata": {
        "id": "r6IyK5Gh-gw7"
      },
      "execution_count": null,
      "outputs": []
    },
    {
      "cell_type": "code",
      "source": [
        "p"
      ],
      "metadata": {
        "colab": {
          "base_uri": "https://localhost:8080/"
        },
        "id": "DTStlSxz_keR",
        "outputId": "d49c5e34-921c-4a33-e522-612d8eb13aba"
      },
      "execution_count": null,
      "outputs": [
        {
          "output_type": "execute_result",
          "data": {
            "text/plain": [
              "array([[ 826, 6822, 9730, 3943, 4863, 1534, 5128, 4586, 1515, 6742, 8626,\n",
              "        1193, 2567, 5446,  983, 1230, 5562,  772, 3860, 3625, 1692, 8188,\n",
              "        6265, 1172, 2798, 4135, 3065, 5687, 7812, 7052, 9392, 4220, 5707,\n",
              "        8369, 2464, 3819, 3221, 1026, 6200, 2337, 7547, 7942, 2473, 1763,\n",
              "        8265, 7785, 6293, 3126, 6519,  287,  376, 6080, 8690, 7233,  693,\n",
              "        5680, 2862, 9286, 1711, 1434, 5669, 4827, 6498, 4879,  110, 7851,\n",
              "        7927, 5673, 6743, 2252, 7783, 7247, 9660, 5752, 4292, 7456, 7059,\n",
              "        2830, 5846, 9195, 5167, 2347, 4462,  666, 7482, 3668, 3071, 8087,\n",
              "        3246, 3158, 5680, 3338, 7457, 9369, 6265, 2330, 8249, 4616, 4224,\n",
              "        1219],\n",
              "       [ 309, 9050, 8440, 9110, 1826, 2287, 9227, 8605, 7013, 7516, 6310,\n",
              "        5038, 9454, 1377,  835, 6574, 2942, 8084, 5848, 2084,  445, 1060,\n",
              "        7648, 4938, 5771, 6569, 2629, 8743, 1457, 1032, 3666, 7734, 6181,\n",
              "        2410, 1869,  485, 5984, 4037, 2541,  992, 3103, 3122, 9239, 6455,\n",
              "        4801, 3811, 5464, 9574, 3891, 2162, 1315, 2870, 9617, 1635, 8629,\n",
              "        1905, 7159, 9765, 6560, 3473, 6491, 2236, 4534, 2105, 8331, 9405,\n",
              "        7512, 2768, 5072, 1759, 7133, 7561, 9884, 2624, 6677, 7555, 3423,\n",
              "        7450, 7806, 7176, 9419, 2257, 5543, 9638, 8146, 1692, 5720, 3431,\n",
              "        3092, 6593, 9767, 8182, 3536, 2001, 6932, 5016, 1627, 2103, 5936,\n",
              "        3860],\n",
              "       [8419, 8801, 1837, 2190, 8213, 8246, 2410, 8261, 7853, 2193, 2001,\n",
              "        3506, 3958, 9083, 8151, 6975, 6953, 5690, 2996, 8867, 9584, 6079,\n",
              "        3038, 9549, 8291, 9434, 8980,  862, 8376, 6131, 5289, 9425, 5512,\n",
              "        6287,  567, 3871, 7810, 3507, 9579, 2779, 7362, 2146, 5587, 4361,\n",
              "        1028, 6036, 2291, 7483, 2391, 2195, 1391, 2453, 8850, 9671, 3543,\n",
              "        4983, 9413, 1151,  584, 8636, 8717, 9382, 9314, 1537, 2450, 1312,\n",
              "        9907,  673, 5430, 3408, 1605, 5393, 3206, 8741, 2165, 5418,  734,\n",
              "         528, 8826, 5270, 5001, 1169, 6430, 3666, 1029,  512, 8471,  145,\n",
              "        4996,  291, 1462, 1245, 1069, 7562, 5233, 9632, 4104, 3100, 8493,\n",
              "        5926],\n",
              "       [5609, 1658, 7186, 2746, 3241, 4345, 8953, 9132, 3309, 2794, 8648,\n",
              "        3197,  171, 1310,  762, 8015, 2433, 9624, 5740, 2318, 7591, 2493,\n",
              "        1523, 9777, 6399, 1214, 6471, 8827, 1843, 7326,  610, 1828, 1451,\n",
              "        5239, 9396, 3453, 4537, 4927,  889,  697, 5020, 6539, 1682, 1196,\n",
              "        5155, 3811, 8164, 7703, 1707, 2821, 6673, 8389, 9912, 5771,  728,\n",
              "         850, 8954, 5978, 6884, 7875, 9851, 5628, 9963, 7475, 9714, 9075,\n",
              "        5820, 7179,  184, 6515, 6354, 7010, 9919, 8952, 8354, 4670, 6139,\n",
              "        1652, 7206, 2786, 6706, 3735, 9984, 7018, 7942, 5513, 7076, 6456,\n",
              "        2571, 2490,  368, 9645, 3242, 7843, 9153, 8249, 4489, 9748, 3817,\n",
              "        5236],\n",
              "       [ 717, 3581, 7561, 7467, 1193, 6777, 3473, 4160,  783, 9627, 6064,\n",
              "        2370, 4368, 5642, 6170, 1370,  919, 5897, 6678, 6452, 9497, 5578,\n",
              "        7666, 8034, 6249, 1151, 7977, 6308, 1822, 7107, 5029, 5599, 1156,\n",
              "         480, 1951, 4676,  117, 4894, 6520, 9918, 4898, 7920, 1146, 6457,\n",
              "         545, 9610, 3933, 2878, 4237, 8141, 8838, 6750, 8034, 2655, 2211,\n",
              "        1451, 3888, 3695, 5551, 2212, 2783, 5319, 7550, 1179, 6255, 5422,\n",
              "        8760, 3481, 6650, 9392, 5637, 4759, 8014, 5400, 9896, 5084, 7380,\n",
              "        7429, 8677, 5699, 4065, 6362, 7158,  455, 3864, 2416, 4712, 3347,\n",
              "        3847, 3147, 2597, 1286, 2321, 1300, 4450, 2120, 4367, 9418, 5816,\n",
              "        2822],\n",
              "       [9514, 2247,  766, 1702, 8591, 1429, 4676, 4646, 7795, 5806, 9938,\n",
              "        2296, 1357,  170, 4761, 8673, 9278,  601, 2590, 9190, 6323, 6264,\n",
              "        1745, 5557, 7019, 4465, 3029, 7964, 3812, 6685, 3195, 8250,  425,\n",
              "        6338, 4004, 8680, 5594, 8271, 1492, 8393, 2074, 5556, 1492, 9998,\n",
              "        1598, 3106, 2420, 6094, 2205, 8768, 2046,  370, 1984, 2184, 8078,\n",
              "        9460, 6870, 5913, 8902, 6710, 9533, 4707, 2320, 1623, 5601, 8441,\n",
              "        1864,  895, 2996, 8406, 4324, 2768, 1876, 6507, 6652, 5215, 3934,\n",
              "        3303, 8354, 7140, 5172, 6420, 3045, 1452, 9211, 5348, 3397, 5966,\n",
              "        9095, 3204, 8426, 3536, 4221, 1207, 6259, 3532,  206, 9389, 7861,\n",
              "         794],\n",
              "       [3880, 3264, 2257, 4946, 4453, 8052, 6643, 1085, 7530, 9612,  237,\n",
              "         459, 2700, 2521, 7822, 2602, 1523,  898, 8357, 8515, 9123, 1784,\n",
              "        7512, 6672, 8548, 5690, 5672, 5684, 1596, 2208, 1987, 6203, 9852,\n",
              "        7786, 9062, 6202, 2007, 9240, 8070, 3355, 6008, 5623, 2625,  706,\n",
              "        3765, 6140,  428, 1440, 4651, 9932, 9797, 4643, 5860,  341, 8207,\n",
              "        1776,  672, 2646, 8991, 4915, 9913, 7834, 6095, 6974, 1909, 8054,\n",
              "        9340, 4705, 9104, 1992,  555, 9792, 7898, 8756, 5457,  678,  392,\n",
              "        6058, 6651, 3440, 3168, 4483, 7284, 6278, 6495, 3651, 2744, 1818,\n",
              "        4466, 8623, 4090, 2503, 7313,  310, 2629, 6330, 6414,  529, 5747,\n",
              "        8679],\n",
              "       [2471, 4845, 1560, 3419, 7535, 9887, 7814, 3723, 2692, 5924, 1706,\n",
              "        5952, 3877, 8991, 6988, 3528, 7435, 6369, 7996, 5919, 1592, 3676,\n",
              "         634, 1672, 4034, 7511, 2478, 1299, 7181, 2210,  117, 8646, 6733,\n",
              "        8579, 8763, 4527, 6617, 8506, 8682, 7353,  803, 8236, 8204, 7784,\n",
              "         274, 8065, 8681, 4477, 4005, 9190, 4971, 9093, 9365, 1601, 7965,\n",
              "        7079, 9515, 6661, 6548, 4642, 2019, 6705, 3170, 6805, 4503, 6276,\n",
              "        9463, 8261, 4116,  212, 4385, 1482, 2152, 2952, 2465, 8328, 5306,\n",
              "        9852, 6595, 7382, 1644, 9368, 8181, 3531, 4696, 8063, 1469, 2804,\n",
              "        2257,  176, 5349, 6780, 6518, 2923, 2508,  132, 1944,  133,  559,\n",
              "        5686],\n",
              "       [9992, 3905, 8105, 1031, 8035, 3515, 8023, 7124, 4333, 1206, 6864,\n",
              "        8478, 6236, 7693, 4259, 1176, 1666, 6172, 5330, 7379, 9103, 7006,\n",
              "        2608, 4073, 1932, 1924, 7952, 2479, 6748, 7924, 2055, 5513, 2312,\n",
              "        7286,  151, 1472, 6607, 6952, 8241, 8101, 6281, 6957, 7262, 5331,\n",
              "        9944, 5941, 5380, 7439, 5597, 6168, 2931, 5896, 3657, 7249, 3418,\n",
              "        7886, 4327, 7044, 2444, 6006, 6054, 2631, 6766, 4344, 8199, 9877,\n",
              "        4899, 5086, 7113, 2789, 5096, 7371, 9156, 3186, 4285, 1493,  385,\n",
              "        2226, 9357, 6714, 5743, 2817, 3077, 4475, 1742, 1968, 8861, 3043,\n",
              "        4022, 6108, 1265, 7159, 3476, 6875, 1436, 2414, 3522, 2660, 8100,\n",
              "         387],\n",
              "       [6227, 5598, 2420, 7129, 3468, 1350, 1082, 3685, 9234, 8216, 1253,\n",
              "        7563, 8601, 7816, 7742, 5101,  461,  786, 1085, 7686, 8652, 5857,\n",
              "         194, 6798,  473, 8895, 7315, 5245, 1054, 9136, 9445, 8744, 5776,\n",
              "        4557, 5634, 5581, 7147, 5861, 8054, 6565, 8300, 5481,  702, 7382,\n",
              "        6985, 9335, 5795, 4674, 3320, 5241, 9175, 4582, 6001, 3687, 6758,\n",
              "        6319, 6220, 9348,  529, 2186,  578, 6722, 3877, 3666,  232, 2826,\n",
              "        1404, 2449, 2720, 9547, 6354, 5538,  939, 6757, 2775, 7082, 9926,\n",
              "        4102, 2187, 9099, 8577, 1508, 2858, 2998, 9304, 5466, 3780, 6479,\n",
              "        8281, 7548, 2643, 6602, 1056,  590,  223, 4354, 6242, 9700, 2320,\n",
              "        6628]])"
            ]
          },
          "metadata": {},
          "execution_count": 74
        }
      ]
    },
    {
      "cell_type": "code",
      "source": [
        "np.min(p)"
      ],
      "metadata": {
        "colab": {
          "base_uri": "https://localhost:8080/"
        },
        "id": "kk8DB16q-Ohu",
        "outputId": "5c616902-8bcd-42d5-ba49-f8878237cdd1"
      },
      "execution_count": null,
      "outputs": [
        {
          "output_type": "execute_result",
          "data": {
            "text/plain": [
              "np.int64(110)"
            ]
          },
          "metadata": {},
          "execution_count": 75
        }
      ]
    },
    {
      "cell_type": "code",
      "source": [
        "np.max(p)"
      ],
      "metadata": {
        "colab": {
          "base_uri": "https://localhost:8080/"
        },
        "id": "BNpaYys3_p32",
        "outputId": "d912d5b2-ce50-4f77-f715-404694aa0421"
      },
      "execution_count": null,
      "outputs": [
        {
          "output_type": "execute_result",
          "data": {
            "text/plain": [
              "np.int64(9998)"
            ]
          },
          "metadata": {},
          "execution_count": 76
        }
      ]
    },
    {
      "cell_type": "markdown",
      "source": [
        "## Reorganizing Array"
      ],
      "metadata": {
        "id": "07MB0tlyAu_d"
      }
    },
    {
      "cell_type": "code",
      "source": [
        "before=np.array([[1,2,3,4],[5,6,7,8]])"
      ],
      "metadata": {
        "id": "l2L6cb2gAD65"
      },
      "execution_count": null,
      "outputs": []
    },
    {
      "cell_type": "code",
      "source": [
        "before.shape"
      ],
      "metadata": {
        "colab": {
          "base_uri": "https://localhost:8080/"
        },
        "id": "EVDTMcNMBJTq",
        "outputId": "1084cfd2-1297-423a-e5b4-6f16f6ee5a38"
      },
      "execution_count": null,
      "outputs": [
        {
          "output_type": "execute_result",
          "data": {
            "text/plain": [
              "(2, 4)"
            ]
          },
          "metadata": {},
          "execution_count": 78
        }
      ]
    },
    {
      "cell_type": "code",
      "source": [
        "after=before.reshape(4,2)"
      ],
      "metadata": {
        "id": "wAP2E6yEBN_s"
      },
      "execution_count": null,
      "outputs": []
    },
    {
      "cell_type": "code",
      "source": [
        "after"
      ],
      "metadata": {
        "colab": {
          "base_uri": "https://localhost:8080/"
        },
        "id": "VX2z2iUDBdUv",
        "outputId": "a5b4b168-80e0-4fd9-9a70-67ccf771485e"
      },
      "execution_count": null,
      "outputs": [
        {
          "output_type": "execute_result",
          "data": {
            "text/plain": [
              "array([[1, 2],\n",
              "       [3, 4],\n",
              "       [5, 6],\n",
              "       [7, 8]])"
            ]
          },
          "metadata": {},
          "execution_count": 80
        }
      ]
    },
    {
      "cell_type": "code",
      "source": [
        "after=before.reshape(2,4)"
      ],
      "metadata": {
        "id": "Pf6o7weLBige"
      },
      "execution_count": null,
      "outputs": []
    },
    {
      "cell_type": "code",
      "source": [
        "after"
      ],
      "metadata": {
        "colab": {
          "base_uri": "https://localhost:8080/"
        },
        "id": "mIYLokFYBo9_",
        "outputId": "ec9f3be2-582b-4058-de60-cb134f854437"
      },
      "execution_count": null,
      "outputs": [
        {
          "output_type": "execute_result",
          "data": {
            "text/plain": [
              "array([[1, 2, 3, 4, 5, 6, 7, 8]])"
            ]
          },
          "metadata": {},
          "execution_count": 82
        }
      ]
    },
    {
      "cell_type": "code",
      "source": [
        "v1=np.array([1,2,34,5])\n",
        "v2=np.array([9,6,34,8])"
      ],
      "metadata": {
        "id": "wS_z78ReB3oV"
      },
      "execution_count": null,
      "outputs": []
    },
    {
      "cell_type": "code",
      "source": [
        "np.vstack([v1,v2])"
      ],
      "metadata": {
        "colab": {
          "base_uri": "https://localhost:8080/"
        },
        "id": "bPKvLPDfCX0F",
        "outputId": "fefe9bd7-2439-4b5b-df58-d7f1b8b94f0d"
      },
      "execution_count": null,
      "outputs": [
        {
          "output_type": "execute_result",
          "data": {
            "text/plain": [
              "array([[ 1,  2, 34,  5],\n",
              "       [ 9,  6, 34,  8]])"
            ]
          },
          "metadata": {},
          "execution_count": 89
        }
      ]
    },
    {
      "cell_type": "code",
      "source": [
        "h1=np.array([1,2,34,5])\n",
        "h2=np.array([9,6,34,8])"
      ],
      "metadata": {
        "id": "Q2ppUD4uClig"
      },
      "execution_count": null,
      "outputs": []
    },
    {
      "cell_type": "code",
      "source": [
        "np.hstack([h1,h2])"
      ],
      "metadata": {
        "colab": {
          "base_uri": "https://localhost:8080/"
        },
        "id": "F2OKBgwMCzT1",
        "outputId": "1721d082-cee0-45c3-c521-565728c2f10c"
      },
      "execution_count": null,
      "outputs": [
        {
          "output_type": "execute_result",
          "data": {
            "text/plain": [
              "array([ 1,  2, 34,  5,  9,  6, 34,  8])"
            ]
          },
          "metadata": {},
          "execution_count": 92
        }
      ]
    }
  ]
}